{
  "nbformat": 4,
  "nbformat_minor": 0,
  "metadata": {
    "colab": {
      "provenance": []
    },
    "kernelspec": {
      "name": "python3",
      "display_name": "Python 3"
    },
    "language_info": {
      "name": "python"
    }
  },
  "cells": [
    {
      "cell_type": "code",
      "execution_count": null,
      "metadata": {
        "id": "fBZmFqjeULav"
      },
      "outputs": [],
      "source": []
    },
    {
      "cell_type": "code",
      "source": [],
      "metadata": {
        "id": "uISjXq0ZUWJr"
      },
      "execution_count": null,
      "outputs": []
    },
    {
      "cell_type": "markdown",
      "metadata": {
        "id": "06e2abad"
      },
      "source": [
        "# Task\n",
        "Classify emails as spam or not spam using NLP techniques (Naive Bayes, SVM, or Logistic Regression) on the Enron Spam Dataset."
      ]
    },
    {
      "cell_type": "markdown",
      "metadata": {
        "id": "061bea43"
      },
      "source": [
        "## Load the dataset\n",
        "\n",
        "### Subtask:\n",
        "Load the Enron Spam Dataset into a suitable data structure, such as a pandas DataFrame.\n"
      ]
    },
    {
      "cell_type": "markdown",
      "metadata": {
        "id": "97f650fc"
      },
      "source": [
        "**Reasoning**:\n",
        "Import the pandas library and load the dataset into a DataFrame, then display the head of the DataFrame.\n",
        "\n"
      ]
    },
    {
      "cell_type": "code",
      "metadata": {
        "colab": {
          "base_uri": "https://localhost:8080/",
          "height": 339
        },
        "id": "7d5c1066",
        "outputId": "eb1d8f79-69aa-4f78-b0f4-388326c38a8c"
      },
      "source": [
        "import pandas as pd\n",
        "\n",
        "# The dataset is assumed to be available at '/data/enron_spam_data.csv'\n",
        "df = pd.read_csv('/data/enron_spam_data.csv')\n",
        "display(df.head())"
      ],
      "execution_count": 1,
      "outputs": [
        {
          "output_type": "error",
          "ename": "FileNotFoundError",
          "evalue": "[Errno 2] No such file or directory: '/data/enron_spam_data.csv'",
          "traceback": [
            "\u001b[0;31m---------------------------------------------------------------------------\u001b[0m",
            "\u001b[0;31mFileNotFoundError\u001b[0m                         Traceback (most recent call last)",
            "\u001b[0;32m/tmp/ipython-input-1-1266549972.py\u001b[0m in \u001b[0;36m<cell line: 0>\u001b[0;34m()\u001b[0m\n\u001b[1;32m      2\u001b[0m \u001b[0;34m\u001b[0m\u001b[0m\n\u001b[1;32m      3\u001b[0m \u001b[0;31m# The dataset is assumed to be available at '/data/enron_spam_data.csv'\u001b[0m\u001b[0;34m\u001b[0m\u001b[0;34m\u001b[0m\u001b[0m\n\u001b[0;32m----> 4\u001b[0;31m \u001b[0mdf\u001b[0m \u001b[0;34m=\u001b[0m \u001b[0mpd\u001b[0m\u001b[0;34m.\u001b[0m\u001b[0mread_csv\u001b[0m\u001b[0;34m(\u001b[0m\u001b[0;34m'/data/enron_spam_data.csv'\u001b[0m\u001b[0;34m)\u001b[0m\u001b[0;34m\u001b[0m\u001b[0;34m\u001b[0m\u001b[0m\n\u001b[0m\u001b[1;32m      5\u001b[0m \u001b[0mdisplay\u001b[0m\u001b[0;34m(\u001b[0m\u001b[0mdf\u001b[0m\u001b[0;34m.\u001b[0m\u001b[0mhead\u001b[0m\u001b[0;34m(\u001b[0m\u001b[0;34m)\u001b[0m\u001b[0;34m)\u001b[0m\u001b[0;34m\u001b[0m\u001b[0;34m\u001b[0m\u001b[0m\n",
            "\u001b[0;32m/usr/local/lib/python3.11/dist-packages/pandas/io/parsers/readers.py\u001b[0m in \u001b[0;36mread_csv\u001b[0;34m(filepath_or_buffer, sep, delimiter, header, names, index_col, usecols, dtype, engine, converters, true_values, false_values, skipinitialspace, skiprows, skipfooter, nrows, na_values, keep_default_na, na_filter, verbose, skip_blank_lines, parse_dates, infer_datetime_format, keep_date_col, date_parser, date_format, dayfirst, cache_dates, iterator, chunksize, compression, thousands, decimal, lineterminator, quotechar, quoting, doublequote, escapechar, comment, encoding, encoding_errors, dialect, on_bad_lines, delim_whitespace, low_memory, memory_map, float_precision, storage_options, dtype_backend)\u001b[0m\n\u001b[1;32m   1024\u001b[0m     \u001b[0mkwds\u001b[0m\u001b[0;34m.\u001b[0m\u001b[0mupdate\u001b[0m\u001b[0;34m(\u001b[0m\u001b[0mkwds_defaults\u001b[0m\u001b[0;34m)\u001b[0m\u001b[0;34m\u001b[0m\u001b[0;34m\u001b[0m\u001b[0m\n\u001b[1;32m   1025\u001b[0m \u001b[0;34m\u001b[0m\u001b[0m\n\u001b[0;32m-> 1026\u001b[0;31m     \u001b[0;32mreturn\u001b[0m \u001b[0m_read\u001b[0m\u001b[0;34m(\u001b[0m\u001b[0mfilepath_or_buffer\u001b[0m\u001b[0;34m,\u001b[0m \u001b[0mkwds\u001b[0m\u001b[0;34m)\u001b[0m\u001b[0;34m\u001b[0m\u001b[0;34m\u001b[0m\u001b[0m\n\u001b[0m\u001b[1;32m   1027\u001b[0m \u001b[0;34m\u001b[0m\u001b[0m\n\u001b[1;32m   1028\u001b[0m \u001b[0;34m\u001b[0m\u001b[0m\n",
            "\u001b[0;32m/usr/local/lib/python3.11/dist-packages/pandas/io/parsers/readers.py\u001b[0m in \u001b[0;36m_read\u001b[0;34m(filepath_or_buffer, kwds)\u001b[0m\n\u001b[1;32m    618\u001b[0m \u001b[0;34m\u001b[0m\u001b[0m\n\u001b[1;32m    619\u001b[0m     \u001b[0;31m# Create the parser.\u001b[0m\u001b[0;34m\u001b[0m\u001b[0;34m\u001b[0m\u001b[0m\n\u001b[0;32m--> 620\u001b[0;31m     \u001b[0mparser\u001b[0m \u001b[0;34m=\u001b[0m \u001b[0mTextFileReader\u001b[0m\u001b[0;34m(\u001b[0m\u001b[0mfilepath_or_buffer\u001b[0m\u001b[0;34m,\u001b[0m \u001b[0;34m**\u001b[0m\u001b[0mkwds\u001b[0m\u001b[0;34m)\u001b[0m\u001b[0;34m\u001b[0m\u001b[0;34m\u001b[0m\u001b[0m\n\u001b[0m\u001b[1;32m    621\u001b[0m \u001b[0;34m\u001b[0m\u001b[0m\n\u001b[1;32m    622\u001b[0m     \u001b[0;32mif\u001b[0m \u001b[0mchunksize\u001b[0m \u001b[0;32mor\u001b[0m \u001b[0miterator\u001b[0m\u001b[0;34m:\u001b[0m\u001b[0;34m\u001b[0m\u001b[0;34m\u001b[0m\u001b[0m\n",
            "\u001b[0;32m/usr/local/lib/python3.11/dist-packages/pandas/io/parsers/readers.py\u001b[0m in \u001b[0;36m__init__\u001b[0;34m(self, f, engine, **kwds)\u001b[0m\n\u001b[1;32m   1618\u001b[0m \u001b[0;34m\u001b[0m\u001b[0m\n\u001b[1;32m   1619\u001b[0m         \u001b[0mself\u001b[0m\u001b[0;34m.\u001b[0m\u001b[0mhandles\u001b[0m\u001b[0;34m:\u001b[0m \u001b[0mIOHandles\u001b[0m \u001b[0;34m|\u001b[0m \u001b[0;32mNone\u001b[0m \u001b[0;34m=\u001b[0m \u001b[0;32mNone\u001b[0m\u001b[0;34m\u001b[0m\u001b[0;34m\u001b[0m\u001b[0m\n\u001b[0;32m-> 1620\u001b[0;31m         \u001b[0mself\u001b[0m\u001b[0;34m.\u001b[0m\u001b[0m_engine\u001b[0m \u001b[0;34m=\u001b[0m \u001b[0mself\u001b[0m\u001b[0;34m.\u001b[0m\u001b[0m_make_engine\u001b[0m\u001b[0;34m(\u001b[0m\u001b[0mf\u001b[0m\u001b[0;34m,\u001b[0m \u001b[0mself\u001b[0m\u001b[0;34m.\u001b[0m\u001b[0mengine\u001b[0m\u001b[0;34m)\u001b[0m\u001b[0;34m\u001b[0m\u001b[0;34m\u001b[0m\u001b[0m\n\u001b[0m\u001b[1;32m   1621\u001b[0m \u001b[0;34m\u001b[0m\u001b[0m\n\u001b[1;32m   1622\u001b[0m     \u001b[0;32mdef\u001b[0m \u001b[0mclose\u001b[0m\u001b[0;34m(\u001b[0m\u001b[0mself\u001b[0m\u001b[0;34m)\u001b[0m \u001b[0;34m->\u001b[0m \u001b[0;32mNone\u001b[0m\u001b[0;34m:\u001b[0m\u001b[0;34m\u001b[0m\u001b[0;34m\u001b[0m\u001b[0m\n",
            "\u001b[0;32m/usr/local/lib/python3.11/dist-packages/pandas/io/parsers/readers.py\u001b[0m in \u001b[0;36m_make_engine\u001b[0;34m(self, f, engine)\u001b[0m\n\u001b[1;32m   1878\u001b[0m                 \u001b[0;32mif\u001b[0m \u001b[0;34m\"b\"\u001b[0m \u001b[0;32mnot\u001b[0m \u001b[0;32min\u001b[0m \u001b[0mmode\u001b[0m\u001b[0;34m:\u001b[0m\u001b[0;34m\u001b[0m\u001b[0;34m\u001b[0m\u001b[0m\n\u001b[1;32m   1879\u001b[0m                     \u001b[0mmode\u001b[0m \u001b[0;34m+=\u001b[0m \u001b[0;34m\"b\"\u001b[0m\u001b[0;34m\u001b[0m\u001b[0;34m\u001b[0m\u001b[0m\n\u001b[0;32m-> 1880\u001b[0;31m             self.handles = get_handle(\n\u001b[0m\u001b[1;32m   1881\u001b[0m                 \u001b[0mf\u001b[0m\u001b[0;34m,\u001b[0m\u001b[0;34m\u001b[0m\u001b[0;34m\u001b[0m\u001b[0m\n\u001b[1;32m   1882\u001b[0m                 \u001b[0mmode\u001b[0m\u001b[0;34m,\u001b[0m\u001b[0;34m\u001b[0m\u001b[0;34m\u001b[0m\u001b[0m\n",
            "\u001b[0;32m/usr/local/lib/python3.11/dist-packages/pandas/io/common.py\u001b[0m in \u001b[0;36mget_handle\u001b[0;34m(path_or_buf, mode, encoding, compression, memory_map, is_text, errors, storage_options)\u001b[0m\n\u001b[1;32m    871\u001b[0m         \u001b[0;32mif\u001b[0m \u001b[0mioargs\u001b[0m\u001b[0;34m.\u001b[0m\u001b[0mencoding\u001b[0m \u001b[0;32mand\u001b[0m \u001b[0;34m\"b\"\u001b[0m \u001b[0;32mnot\u001b[0m \u001b[0;32min\u001b[0m \u001b[0mioargs\u001b[0m\u001b[0;34m.\u001b[0m\u001b[0mmode\u001b[0m\u001b[0;34m:\u001b[0m\u001b[0;34m\u001b[0m\u001b[0;34m\u001b[0m\u001b[0m\n\u001b[1;32m    872\u001b[0m             \u001b[0;31m# Encoding\u001b[0m\u001b[0;34m\u001b[0m\u001b[0;34m\u001b[0m\u001b[0m\n\u001b[0;32m--> 873\u001b[0;31m             handle = open(\n\u001b[0m\u001b[1;32m    874\u001b[0m                 \u001b[0mhandle\u001b[0m\u001b[0;34m,\u001b[0m\u001b[0;34m\u001b[0m\u001b[0;34m\u001b[0m\u001b[0m\n\u001b[1;32m    875\u001b[0m                 \u001b[0mioargs\u001b[0m\u001b[0;34m.\u001b[0m\u001b[0mmode\u001b[0m\u001b[0;34m,\u001b[0m\u001b[0;34m\u001b[0m\u001b[0;34m\u001b[0m\u001b[0m\n",
            "\u001b[0;31mFileNotFoundError\u001b[0m: [Errno 2] No such file or directory: '/data/enron_spam_data.csv'"
          ]
        }
      ]
    },
    {
      "cell_type": "markdown",
      "metadata": {
        "id": "7ba33f57"
      },
      "source": [
        "**Reasoning**:\n",
        "The previous attempt to load the dataset failed because the file was not found at the specified path. I need to try a different path to load the data. I will try the path '/kaggle/input/enron-spam-dataset/enron_spam_data.csv' as it is a common location for datasets in Kaggle environments.\n",
        "\n"
      ]
    },
    {
      "cell_type": "code",
      "metadata": {
        "colab": {
          "base_uri": "https://localhost:8080/"
        },
        "id": "iyGc-gpdUWok",
        "outputId": "cda957cb-b575-4fb6-dff7-f715fbd941b8"
      },
      "source": [
        "# Try loading the dataset from a different common path in Kaggle environments\n",
        "try:\n",
        "    df = pd.read_csv('/kaggle/input/enron-spam-dataset/enron_spam_data.csv')\n",
        "    display(df.head())\n",
        "except FileNotFoundError:\n",
        "    print(\"Dataset not found at /kaggle/input/enron-spam-dataset/enron_spam_data.csv. Please provide the correct path.\")\n"
      ],
      "execution_count": 2,
      "outputs": [
        {
          "output_type": "stream",
          "name": "stdout",
          "text": [
            "Dataset not found at /kaggle/input/enron-spam-dataset/enron_spam_data.csv. Please provide the correct path.\n"
          ]
        }
      ]
    },
    {
      "cell_type": "code",
      "source": [
        "# Install dependencies as needed:\n",
        "# pip install kagglehub[pandas-datasets]\n",
        "import kagglehub\n",
        "from kagglehub import KaggleDatasetAdapter\n",
        "\n",
        "# List files in the dataset\n",
        "files = kagglehub.dataset_download_files(\"marcelwiechmann/enron-spam-data\")\n",
        "print(\"Files in the dataset:\", files)\n",
        "\n",
        "# Set the path to the file you'd like to load\n",
        "# Update this with the actual file name from the output above\n",
        "file_path = \"\" # Replace with the correct file name\n",
        "\n",
        "# Load the latest version if file_path is not empty\n",
        "if file_path:\n",
        "    df = kagglehub.load_dataset(\n",
        "      KaggleDatasetAdapter.PANDAS,\n",
        "      \"marcelwiechmann/enron-spam-data\",\n",
        "      file_path,\n",
        "      # Provide any additional arguments like\n",
        "      # sql_query or pandas_kwargs. See the\n",
        "      # documenation for more information:\n",
        "      # https://github.com/Kaggle/kagglehub/blob/main/README.md#kaggledatasetadapterpandas\n",
        "    )\n",
        "\n",
        "    print(\"First 5 records:\", df.head())\n",
        "else:\n",
        "    print(\"Please update the 'file_path' with the correct file name from the list above and rerun the cell.\")"
      ],
      "metadata": {
        "colab": {
          "base_uri": "https://localhost:8080/",
          "height": 211
        },
        "id": "ONiP4C_2UZ41",
        "outputId": "72c85366-e9ce-4c95-85dc-e7fcec833373"
      },
      "execution_count": 7,
      "outputs": [
        {
          "output_type": "error",
          "ename": "AttributeError",
          "evalue": "module 'kagglehub' has no attribute 'dataset_download_files'",
          "traceback": [
            "\u001b[0;31m---------------------------------------------------------------------------\u001b[0m",
            "\u001b[0;31mAttributeError\u001b[0m                            Traceback (most recent call last)",
            "\u001b[0;32m/tmp/ipython-input-7-3724557016.py\u001b[0m in \u001b[0;36m<cell line: 0>\u001b[0;34m()\u001b[0m\n\u001b[1;32m      5\u001b[0m \u001b[0;34m\u001b[0m\u001b[0m\n\u001b[1;32m      6\u001b[0m \u001b[0;31m# List files in the dataset\u001b[0m\u001b[0;34m\u001b[0m\u001b[0;34m\u001b[0m\u001b[0m\n\u001b[0;32m----> 7\u001b[0;31m \u001b[0mfiles\u001b[0m \u001b[0;34m=\u001b[0m \u001b[0mkagglehub\u001b[0m\u001b[0;34m.\u001b[0m\u001b[0mdataset_download_files\u001b[0m\u001b[0;34m(\u001b[0m\u001b[0;34m\"marcelwiechmann/enron-spam-data\"\u001b[0m\u001b[0;34m)\u001b[0m\u001b[0;34m\u001b[0m\u001b[0;34m\u001b[0m\u001b[0m\n\u001b[0m\u001b[1;32m      8\u001b[0m \u001b[0mprint\u001b[0m\u001b[0;34m(\u001b[0m\u001b[0;34m\"Files in the dataset:\"\u001b[0m\u001b[0;34m,\u001b[0m \u001b[0mfiles\u001b[0m\u001b[0;34m)\u001b[0m\u001b[0;34m\u001b[0m\u001b[0;34m\u001b[0m\u001b[0m\n\u001b[1;32m      9\u001b[0m \u001b[0;34m\u001b[0m\u001b[0m\n",
            "\u001b[0;31mAttributeError\u001b[0m: module 'kagglehub' has no attribute 'dataset_download_files'"
          ]
        }
      ]
    },
    {
      "cell_type": "markdown",
      "metadata": {
        "id": "d5e52ebd"
      },
      "source": [
        "## Load the dataset\n",
        "\n",
        "### Subtask:\n",
        "Load the Enron Spam Dataset into a suitable data structure, such as a pandas DataFrame.\n"
      ]
    },
    {
      "cell_type": "markdown",
      "metadata": {
        "id": "f6170684"
      },
      "source": [
        "**Reasoning**:\n",
        "Attempt to load the dataset from a list of common file paths.\n",
        "\n"
      ]
    },
    {
      "cell_type": "code",
      "metadata": {
        "colab": {
          "base_uri": "https://localhost:8080/"
        },
        "id": "072c309b",
        "outputId": "488a9472-bc7d-41e0-a1d5-43509d229def"
      },
      "source": [
        "import pandas as pd\n",
        "import os\n",
        "\n",
        "# List of potential file paths\n",
        "potential_paths = [\n",
        "    'enron_spam_data.csv',\n",
        "    './enron_spam_data.csv',\n",
        "    '../enron_spam_data.csv',\n",
        "    '/tmp/enron_spam_data.csv',\n",
        "    '/data/enron_spam_data.csv',\n",
        "    '/kaggle/input/enron-spam-dataset/enron_spam_data.csv'\n",
        "]\n",
        "\n",
        "df = None\n",
        "for path in potential_paths:\n",
        "    try:\n",
        "        df = pd.read_csv(path)\n",
        "        print(f\"Dataset successfully loaded from: {path}\")\n",
        "        break  # Stop once the dataset is loaded\n",
        "    except FileNotFoundError:\n",
        "        print(f\"Dataset not found at: {path}\")\n",
        "\n",
        "if df is not None:\n",
        "    display(df.head())\n",
        "else:\n",
        "    print(\"Dataset not found in any of the common paths. Please verify the file path.\")"
      ],
      "execution_count": 4,
      "outputs": [
        {
          "output_type": "stream",
          "name": "stdout",
          "text": [
            "Dataset not found at: enron_spam_data.csv\n",
            "Dataset not found at: ./enron_spam_data.csv\n",
            "Dataset not found at: ../enron_spam_data.csv\n",
            "Dataset not found at: /tmp/enron_spam_data.csv\n",
            "Dataset not found at: /data/enron_spam_data.csv\n",
            "Dataset not found at: /kaggle/input/enron-spam-dataset/enron_spam_data.csv\n",
            "Dataset not found in any of the common paths. Please verify the file path.\n"
          ]
        }
      ]
    },
    {
      "cell_type": "markdown",
      "metadata": {
        "id": "caf7371b"
      },
      "source": [
        "## Load the dataset\n",
        "\n",
        "### Subtask:\n",
        "Load the Enron Spam Dataset into a suitable data structure, such as a pandas DataFrame.\n"
      ]
    },
    {
      "cell_type": "markdown",
      "metadata": {
        "id": "0253d4c7"
      },
      "source": [
        "**Reasoning**:\n",
        "Print the current working directory and list the files and directories to locate the dataset.\n",
        "\n"
      ]
    },
    {
      "cell_type": "code",
      "metadata": {
        "colab": {
          "base_uri": "https://localhost:8080/"
        },
        "id": "3c750f06",
        "outputId": "8fd0e046-6404-4329-c5ed-7aac2e605d6f"
      },
      "source": [
        "import os\n",
        "import pandas as pd\n",
        "\n",
        "print(\"Current working directory:\", os.getcwd())\n",
        "print(\"Files and directories in the current directory:\", os.listdir())\n",
        "\n",
        "# Assuming the dataset might be in an 'input' directory based on previous attempts\n",
        "if 'input' in os.listdir():\n",
        "    input_path = 'input'\n",
        "    print(f\"\\nFiles and directories in '{input_path}':\", os.listdir(input_path))\n",
        "    # Assuming the dataset might be in a subdirectory within 'input'\n",
        "    for item in os.listdir(input_path):\n",
        "        item_path = os.path.join(input_path, item)\n",
        "        if os.path.isdir(item_path):\n",
        "            print(f\"Files and directories in '{item_path}':\", os.listdir(item_path))\n",
        "            # Check if the dataset is in this subdirectory\n",
        "            if 'enron_spam_data.csv' in os.listdir(item_path):\n",
        "                dataset_path = os.path.join(item_path, 'enron_spam_data.csv')\n",
        "                print(f\"\\nFound dataset at: {dataset_path}\")\n",
        "                df = pd.read_csv(dataset_path)\n",
        "                print(\"\\nSuccessfully loaded the dataset:\")\n",
        "                display(df.head())\n",
        "                break # Exit loop once found\n",
        "    else: # This else belongs to the for loop, executed if the loop completes without finding the dataset\n",
        "        print(\"\\nDataset 'enron_spam_data.csv' not found in any subdirectory within 'input'.\")\n",
        "elif 'enron-spam-dataset' in os.listdir():\n",
        "     dataset_path = 'enron-spam-dataset/enron_spam_data.csv'\n",
        "     print(f\"\\nFound dataset at: {dataset_path}\")\n",
        "     df = pd.read_csv(dataset_path)\n",
        "     print(\"\\nSuccessfully loaded the dataset:\")\n",
        "     display(df.head())\n",
        "else:\n",
        "    print(\"\\nDataset 'enron_spam_data.csv' not found in the current directory or a common subdirectory.\")\n",
        "\n",
        "if 'df' in locals(): # Check if df was created\n",
        "    print(\"\\nDataFrame loading attempt completed.\")\n"
      ],
      "execution_count": 6,
      "outputs": [
        {
          "output_type": "stream",
          "name": "stdout",
          "text": [
            "Current working directory: /content\n",
            "Files and directories in the current directory: ['.config', 'sample_data']\n",
            "\n",
            "Dataset 'enron_spam_data.csv' not found in the current directory or a common subdirectory.\n",
            "\n",
            "DataFrame loading attempt completed.\n"
          ]
        }
      ]
    },
    {
      "cell_type": "markdown",
      "metadata": {
        "id": "eb00482f"
      },
      "source": [
        "**Reasoning**:\n",
        "Since the dataset was not found in the current directory or common subdirectories, I will try a few other common locations where datasets are stored in similar environments and list the contents of the root directory and /content to get a broader view of the file system.\n",
        "\n"
      ]
    },
    {
      "cell_type": "code",
      "metadata": {
        "colab": {
          "base_uri": "https://localhost:8080/"
        },
        "id": "47ebc624",
        "outputId": "50c33f1c-26fd-44ff-d6b0-a83365414360"
      },
      "source": [
        "import os\n",
        "\n",
        "print(\"Files and directories in /kaggle/input/:\")\n",
        "try:\n",
        "    for root, dirs, files in os.walk('/kaggle/input/'):\n",
        "        print(f\"Directory: {root}\")\n",
        "        for name in files:\n",
        "            print(f\"  File: {name}\")\n",
        "except FileNotFoundError:\n",
        "    print(\"/kaggle/input/ not found.\")"
      ],
      "execution_count": 8,
      "outputs": [
        {
          "output_type": "stream",
          "name": "stdout",
          "text": [
            "Files and directories in /kaggle/input/:\n",
            "Directory: /kaggle/input/\n"
          ]
        }
      ]
    },
    {
      "cell_type": "code",
      "metadata": {
        "colab": {
          "base_uri": "https://localhost:8080/"
        },
        "id": "0616a742",
        "outputId": "c0f24bca-ca08-40e7-de04-39759b96b6e1"
      },
      "source": [
        "import os\n",
        "\n",
        "print(\"Files and directories in /:\")\n",
        "try:\n",
        "    print(os.listdir('/'))\n",
        "except Exception as e:\n",
        "    print(f\"Could not list files in /: {e}\")\n",
        "\n",
        "print(\"\\nFiles and directories in /content:\")\n",
        "try:\n",
        "    print(os.listdir('/content'))\n",
        "except Exception as e:\n",
        "    print(f\"Could not list files in /content: {e}\")"
      ],
      "execution_count": 9,
      "outputs": [
        {
          "output_type": "stream",
          "name": "stdout",
          "text": [
            "Files and directories in /:\n",
            "['home', 'tmp', 'run', 'root', 'srv', 'boot', 'proc', 'usr', 'lib64', 'lib32', 'mnt', 'sbin', 'sys', 'var', 'bin', 'media', 'lib', 'libx32', 'opt', 'dev', 'etc', 'kaggle', '.dockerenv', 'tools', 'datalab', 'content', 'python-apt', 'python-apt.tar.xz', 'NGC-DL-CONTAINER-LICENSE', 'cuda-keyring_1.1-1_all.deb']\n",
            "\n",
            "Files and directories in /content:\n",
            "['.config', 'sample_data']\n"
          ]
        }
      ]
    },
    {
      "cell_type": "markdown",
      "metadata": {
        "id": "8a3661e2"
      },
      "source": [
        "## Load the dataset\n",
        "\n",
        "### Subtask:\n",
        "Load the Enron Spam Dataset into a suitable data structure, such as a pandas DataFrame."
      ]
    },
    {
      "cell_type": "markdown",
      "metadata": {
        "id": "245b4269"
      },
      "source": [
        "**Reasoning**:\n",
        "Attempt to load the dataset from a list of common file paths."
      ]
    },
    {
      "cell_type": "code",
      "metadata": {
        "colab": {
          "base_uri": "https://localhost:8080/"
        },
        "id": "1f0e3c55",
        "outputId": "96dccfcc-4b35-4b09-a819-8243c955d1fe"
      },
      "source": [
        "import kagglehub\n",
        "\n",
        "# Download latest version\n",
        "path = kagglehub.dataset_download(\"marcelwiechmann/enron-spam-data\")\n",
        "\n",
        "print(\"Path to dataset files:\", path)"
      ],
      "execution_count": 11,
      "outputs": [
        {
          "output_type": "stream",
          "name": "stdout",
          "text": [
            "Downloading from https://www.kaggle.com/api/v1/datasets/download/marcelwiechmann/enron-spam-data?dataset_version_number=3...\n"
          ]
        },
        {
          "output_type": "stream",
          "name": "stderr",
          "text": [
            "100%|██████████| 8.05M/8.05M [00:00<00:00, 86.6MB/s]"
          ]
        },
        {
          "output_type": "stream",
          "name": "stdout",
          "text": [
            "Extracting files...\n"
          ]
        },
        {
          "output_type": "stream",
          "name": "stderr",
          "text": [
            "\n"
          ]
        },
        {
          "output_type": "stream",
          "name": "stdout",
          "text": [
            "Path to dataset files: /root/.cache/kagglehub/datasets/marcelwiechmann/enron-spam-data/versions/3\n"
          ]
        }
      ]
    },
    {
      "cell_type": "markdown",
      "metadata": {
        "id": "6d748409"
      },
      "source": [
        "## Load the dataset\n",
        "\n",
        "### Subtask:\n",
        "Load the Enron Spam Dataset into a suitable data structure, such as a pandas DataFrame."
      ]
    },
    {
      "cell_type": "markdown",
      "metadata": {
        "id": "9885eba5"
      },
      "source": [
        "**Reasoning**:\n",
        "The dataset has been downloaded using KaggleHub to the specified path. Now, I will load the `enron_spam_data.csv` file from this path into a pandas DataFrame."
      ]
    },
    {
      "cell_type": "code",
      "metadata": {
        "colab": {
          "base_uri": "https://localhost:8080/",
          "height": 223
        },
        "id": "ac42cc2b",
        "outputId": "ad6598f0-0966-4585-f2c9-7a025235fc81"
      },
      "source": [
        "import pandas as pd\n",
        "import os\n",
        "\n",
        "# Path to the downloaded dataset files\n",
        "dataset_path = \"/root/.cache/kagglehub/datasets/marcelwiechmann/enron-spam-data/versions/3\"\n",
        "\n",
        "# Assuming the dataset file is named 'enron_spam_data.csv' within the downloaded directory\n",
        "file_name = \"enron_spam_data.csv\"\n",
        "file_path = os.path.join(dataset_path, file_name)\n",
        "\n",
        "# Load the dataset into a pandas DataFrame\n",
        "try:\n",
        "    df = pd.read_csv(file_path)\n",
        "    print(f\"Dataset successfully loaded from: {file_path}\")\n",
        "    display(df.head())\n",
        "except FileNotFoundError:\n",
        "    print(f\"Error: Dataset file not found at {file_path}\")\n",
        "except Exception as e:\n",
        "    print(f\"An error occurred while loading the dataset: {e}\")"
      ],
      "execution_count": 12,
      "outputs": [
        {
          "output_type": "stream",
          "name": "stdout",
          "text": [
            "Dataset successfully loaded from: /root/.cache/kagglehub/datasets/marcelwiechmann/enron-spam-data/versions/3/enron_spam_data.csv\n"
          ]
        },
        {
          "output_type": "display_data",
          "data": {
            "text/plain": [
              "   Unnamed: 0                       Subject  \\\n",
              "0           0  christmas tree farm pictures   \n",
              "1           1      vastar resources , inc .   \n",
              "2           2  calpine daily gas nomination   \n",
              "3           3                    re : issue   \n",
              "4           4     meter 7268 nov allocation   \n",
              "\n",
              "                                             Message Spam/Ham        Date  \n",
              "0                                                NaN      ham  1999-12-10  \n",
              "1  gary , production from the high island larger ...      ham  1999-12-13  \n",
              "2             - calpine daily gas nomination 1 . doc      ham  1999-12-14  \n",
              "3  fyi - see note below - already done .\\nstella\\...      ham  1999-12-14  \n",
              "4  fyi .\\n- - - - - - - - - - - - - - - - - - - -...      ham  1999-12-14  "
            ],
            "text/html": [
              "\n",
              "  <div id=\"df-9ea9c621-9edb-49bf-9b56-bbdaaf187855\" class=\"colab-df-container\">\n",
              "    <div>\n",
              "<style scoped>\n",
              "    .dataframe tbody tr th:only-of-type {\n",
              "        vertical-align: middle;\n",
              "    }\n",
              "\n",
              "    .dataframe tbody tr th {\n",
              "        vertical-align: top;\n",
              "    }\n",
              "\n",
              "    .dataframe thead th {\n",
              "        text-align: right;\n",
              "    }\n",
              "</style>\n",
              "<table border=\"1\" class=\"dataframe\">\n",
              "  <thead>\n",
              "    <tr style=\"text-align: right;\">\n",
              "      <th></th>\n",
              "      <th>Unnamed: 0</th>\n",
              "      <th>Subject</th>\n",
              "      <th>Message</th>\n",
              "      <th>Spam/Ham</th>\n",
              "      <th>Date</th>\n",
              "    </tr>\n",
              "  </thead>\n",
              "  <tbody>\n",
              "    <tr>\n",
              "      <th>0</th>\n",
              "      <td>0</td>\n",
              "      <td>christmas tree farm pictures</td>\n",
              "      <td>NaN</td>\n",
              "      <td>ham</td>\n",
              "      <td>1999-12-10</td>\n",
              "    </tr>\n",
              "    <tr>\n",
              "      <th>1</th>\n",
              "      <td>1</td>\n",
              "      <td>vastar resources , inc .</td>\n",
              "      <td>gary , production from the high island larger ...</td>\n",
              "      <td>ham</td>\n",
              "      <td>1999-12-13</td>\n",
              "    </tr>\n",
              "    <tr>\n",
              "      <th>2</th>\n",
              "      <td>2</td>\n",
              "      <td>calpine daily gas nomination</td>\n",
              "      <td>- calpine daily gas nomination 1 . doc</td>\n",
              "      <td>ham</td>\n",
              "      <td>1999-12-14</td>\n",
              "    </tr>\n",
              "    <tr>\n",
              "      <th>3</th>\n",
              "      <td>3</td>\n",
              "      <td>re : issue</td>\n",
              "      <td>fyi - see note below - already done .\\nstella\\...</td>\n",
              "      <td>ham</td>\n",
              "      <td>1999-12-14</td>\n",
              "    </tr>\n",
              "    <tr>\n",
              "      <th>4</th>\n",
              "      <td>4</td>\n",
              "      <td>meter 7268 nov allocation</td>\n",
              "      <td>fyi .\\n- - - - - - - - - - - - - - - - - - - -...</td>\n",
              "      <td>ham</td>\n",
              "      <td>1999-12-14</td>\n",
              "    </tr>\n",
              "  </tbody>\n",
              "</table>\n",
              "</div>\n",
              "    <div class=\"colab-df-buttons\">\n",
              "\n",
              "  <div class=\"colab-df-container\">\n",
              "    <button class=\"colab-df-convert\" onclick=\"convertToInteractive('df-9ea9c621-9edb-49bf-9b56-bbdaaf187855')\"\n",
              "            title=\"Convert this dataframe to an interactive table.\"\n",
              "            style=\"display:none;\">\n",
              "\n",
              "  <svg xmlns=\"http://www.w3.org/2000/svg\" height=\"24px\" viewBox=\"0 -960 960 960\">\n",
              "    <path d=\"M120-120v-720h720v720H120Zm60-500h600v-160H180v160Zm220 220h160v-160H400v160Zm0 220h160v-160H400v160ZM180-400h160v-160H180v160Zm440 0h160v-160H620v160ZM180-180h160v-160H180v160Zm440 0h160v-160H620v160Z\"/>\n",
              "  </svg>\n",
              "    </button>\n",
              "\n",
              "  <style>\n",
              "    .colab-df-container {\n",
              "      display:flex;\n",
              "      gap: 12px;\n",
              "    }\n",
              "\n",
              "    .colab-df-convert {\n",
              "      background-color: #E8F0FE;\n",
              "      border: none;\n",
              "      border-radius: 50%;\n",
              "      cursor: pointer;\n",
              "      display: none;\n",
              "      fill: #1967D2;\n",
              "      height: 32px;\n",
              "      padding: 0 0 0 0;\n",
              "      width: 32px;\n",
              "    }\n",
              "\n",
              "    .colab-df-convert:hover {\n",
              "      background-color: #E2EBFA;\n",
              "      box-shadow: 0px 1px 2px rgba(60, 64, 67, 0.3), 0px 1px 3px 1px rgba(60, 64, 67, 0.15);\n",
              "      fill: #174EA6;\n",
              "    }\n",
              "\n",
              "    .colab-df-buttons div {\n",
              "      margin-bottom: 4px;\n",
              "    }\n",
              "\n",
              "    [theme=dark] .colab-df-convert {\n",
              "      background-color: #3B4455;\n",
              "      fill: #D2E3FC;\n",
              "    }\n",
              "\n",
              "    [theme=dark] .colab-df-convert:hover {\n",
              "      background-color: #434B5C;\n",
              "      box-shadow: 0px 1px 3px 1px rgba(0, 0, 0, 0.15);\n",
              "      filter: drop-shadow(0px 1px 2px rgba(0, 0, 0, 0.3));\n",
              "      fill: #FFFFFF;\n",
              "    }\n",
              "  </style>\n",
              "\n",
              "    <script>\n",
              "      const buttonEl =\n",
              "        document.querySelector('#df-9ea9c621-9edb-49bf-9b56-bbdaaf187855 button.colab-df-convert');\n",
              "      buttonEl.style.display =\n",
              "        google.colab.kernel.accessAllowed ? 'block' : 'none';\n",
              "\n",
              "      async function convertToInteractive(key) {\n",
              "        const element = document.querySelector('#df-9ea9c621-9edb-49bf-9b56-bbdaaf187855');\n",
              "        const dataTable =\n",
              "          await google.colab.kernel.invokeFunction('convertToInteractive',\n",
              "                                                    [key], {});\n",
              "        if (!dataTable) return;\n",
              "\n",
              "        const docLinkHtml = 'Like what you see? Visit the ' +\n",
              "          '<a target=\"_blank\" href=https://colab.research.google.com/notebooks/data_table.ipynb>data table notebook</a>'\n",
              "          + ' to learn more about interactive tables.';\n",
              "        element.innerHTML = '';\n",
              "        dataTable['output_type'] = 'display_data';\n",
              "        await google.colab.output.renderOutput(dataTable, element);\n",
              "        const docLink = document.createElement('div');\n",
              "        docLink.innerHTML = docLinkHtml;\n",
              "        element.appendChild(docLink);\n",
              "      }\n",
              "    </script>\n",
              "  </div>\n",
              "\n",
              "\n",
              "    <div id=\"df-86351c50-6567-4d7e-aca7-c080f945f76d\">\n",
              "      <button class=\"colab-df-quickchart\" onclick=\"quickchart('df-86351c50-6567-4d7e-aca7-c080f945f76d')\"\n",
              "                title=\"Suggest charts\"\n",
              "                style=\"display:none;\">\n",
              "\n",
              "<svg xmlns=\"http://www.w3.org/2000/svg\" height=\"24px\"viewBox=\"0 0 24 24\"\n",
              "     width=\"24px\">\n",
              "    <g>\n",
              "        <path d=\"M19 3H5c-1.1 0-2 .9-2 2v14c0 1.1.9 2 2 2h14c1.1 0 2-.9 2-2V5c0-1.1-.9-2-2-2zM9 17H7v-7h2v7zm4 0h-2V7h2v10zm4 0h-2v-4h2v4z\"/>\n",
              "    </g>\n",
              "</svg>\n",
              "      </button>\n",
              "\n",
              "<style>\n",
              "  .colab-df-quickchart {\n",
              "      --bg-color: #E8F0FE;\n",
              "      --fill-color: #1967D2;\n",
              "      --hover-bg-color: #E2EBFA;\n",
              "      --hover-fill-color: #174EA6;\n",
              "      --disabled-fill-color: #AAA;\n",
              "      --disabled-bg-color: #DDD;\n",
              "  }\n",
              "\n",
              "  [theme=dark] .colab-df-quickchart {\n",
              "      --bg-color: #3B4455;\n",
              "      --fill-color: #D2E3FC;\n",
              "      --hover-bg-color: #434B5C;\n",
              "      --hover-fill-color: #FFFFFF;\n",
              "      --disabled-bg-color: #3B4455;\n",
              "      --disabled-fill-color: #666;\n",
              "  }\n",
              "\n",
              "  .colab-df-quickchart {\n",
              "    background-color: var(--bg-color);\n",
              "    border: none;\n",
              "    border-radius: 50%;\n",
              "    cursor: pointer;\n",
              "    display: none;\n",
              "    fill: var(--fill-color);\n",
              "    height: 32px;\n",
              "    padding: 0;\n",
              "    width: 32px;\n",
              "  }\n",
              "\n",
              "  .colab-df-quickchart:hover {\n",
              "    background-color: var(--hover-bg-color);\n",
              "    box-shadow: 0 1px 2px rgba(60, 64, 67, 0.3), 0 1px 3px 1px rgba(60, 64, 67, 0.15);\n",
              "    fill: var(--button-hover-fill-color);\n",
              "  }\n",
              "\n",
              "  .colab-df-quickchart-complete:disabled,\n",
              "  .colab-df-quickchart-complete:disabled:hover {\n",
              "    background-color: var(--disabled-bg-color);\n",
              "    fill: var(--disabled-fill-color);\n",
              "    box-shadow: none;\n",
              "  }\n",
              "\n",
              "  .colab-df-spinner {\n",
              "    border: 2px solid var(--fill-color);\n",
              "    border-color: transparent;\n",
              "    border-bottom-color: var(--fill-color);\n",
              "    animation:\n",
              "      spin 1s steps(1) infinite;\n",
              "  }\n",
              "\n",
              "  @keyframes spin {\n",
              "    0% {\n",
              "      border-color: transparent;\n",
              "      border-bottom-color: var(--fill-color);\n",
              "      border-left-color: var(--fill-color);\n",
              "    }\n",
              "    20% {\n",
              "      border-color: transparent;\n",
              "      border-left-color: var(--fill-color);\n",
              "      border-top-color: var(--fill-color);\n",
              "    }\n",
              "    30% {\n",
              "      border-color: transparent;\n",
              "      border-left-color: var(--fill-color);\n",
              "      border-top-color: var(--fill-color);\n",
              "      border-right-color: var(--fill-color);\n",
              "    }\n",
              "    40% {\n",
              "      border-color: transparent;\n",
              "      border-right-color: var(--fill-color);\n",
              "      border-top-color: var(--fill-color);\n",
              "    }\n",
              "    60% {\n",
              "      border-color: transparent;\n",
              "      border-right-color: var(--fill-color);\n",
              "    }\n",
              "    80% {\n",
              "      border-color: transparent;\n",
              "      border-right-color: var(--fill-color);\n",
              "      border-bottom-color: var(--fill-color);\n",
              "    }\n",
              "    90% {\n",
              "      border-color: transparent;\n",
              "      border-bottom-color: var(--fill-color);\n",
              "    }\n",
              "  }\n",
              "</style>\n",
              "\n",
              "      <script>\n",
              "        async function quickchart(key) {\n",
              "          const quickchartButtonEl =\n",
              "            document.querySelector('#' + key + ' button');\n",
              "          quickchartButtonEl.disabled = true;  // To prevent multiple clicks.\n",
              "          quickchartButtonEl.classList.add('colab-df-spinner');\n",
              "          try {\n",
              "            const charts = await google.colab.kernel.invokeFunction(\n",
              "                'suggestCharts', [key], {});\n",
              "          } catch (error) {\n",
              "            console.error('Error during call to suggestCharts:', error);\n",
              "          }\n",
              "          quickchartButtonEl.classList.remove('colab-df-spinner');\n",
              "          quickchartButtonEl.classList.add('colab-df-quickchart-complete');\n",
              "        }\n",
              "        (() => {\n",
              "          let quickchartButtonEl =\n",
              "            document.querySelector('#df-86351c50-6567-4d7e-aca7-c080f945f76d button');\n",
              "          quickchartButtonEl.style.display =\n",
              "            google.colab.kernel.accessAllowed ? 'block' : 'none';\n",
              "        })();\n",
              "      </script>\n",
              "    </div>\n",
              "\n",
              "    </div>\n",
              "  </div>\n"
            ],
            "application/vnd.google.colaboratory.intrinsic+json": {
              "type": "dataframe",
              "summary": "{\n  \"name\": \"    print(f\\\"An error occurred while loading the dataset: {e}\\\")\",\n  \"rows\": 5,\n  \"fields\": [\n    {\n      \"column\": \"Unnamed: 0\",\n      \"properties\": {\n        \"dtype\": \"number\",\n        \"std\": 1,\n        \"min\": 0,\n        \"max\": 4,\n        \"num_unique_values\": 5,\n        \"samples\": [\n          1,\n          4,\n          2\n        ],\n        \"semantic_type\": \"\",\n        \"description\": \"\"\n      }\n    },\n    {\n      \"column\": \"Subject\",\n      \"properties\": {\n        \"dtype\": \"string\",\n        \"num_unique_values\": 5,\n        \"samples\": [\n          \"vastar resources , inc .\",\n          \"meter 7268 nov allocation\",\n          \"calpine daily gas nomination\"\n        ],\n        \"semantic_type\": \"\",\n        \"description\": \"\"\n      }\n    },\n    {\n      \"column\": \"Message\",\n      \"properties\": {\n        \"dtype\": \"string\",\n        \"num_unique_values\": 4,\n        \"samples\": [\n          \"- calpine daily gas nomination 1 . doc\",\n          \"fyi .\\n- - - - - - - - - - - - - - - - - - - - - - forwarded by lauri a allen / hou / ect on 12 / 14 / 99 12 : 17\\npm - - - - - - - - - - - - - - - - - - - - - - - - - - -\\nkimberly vaughn\\n12 / 10 / 99 02 : 54 pm\\nto : lauri a allen / hou / ect @ ect\\ncc : mary m smith / hou / ect @ ect\\nsubject : meter 7268 nov allocation\\nlauri . . i have put this on strangas gas until i can get a contract from\\ndaren .\\n- - - - - - - - - - - - - - - - - - - - - - forwarded by kimberly vaughn / hou / ect on 12 / 10 / 99 01 : 52\\npm - - - - - - - - - - - - - - - - - - - - - - - - - - -\\nlauri a allen\\n12 / 09 / 99 01 : 20 pm\\nto : kimberly vaughn / hou / ect @ ect , anita luong / hou / ect @ ect\\ncc : howard b camp / hou / ect @ ect , mary m smith / hou / ect @ ect\\nsubject : meter 7268 nov allocation\\nkim / anita -\\na volume of 7247 mm shows to have been allocated to the reliant 201 contract\\nfor november . there was no nomination for reliant at this point in november\\nand , therefore , there should be no volume allocated to their contract .\\nplease make sure these volumes are moved off the reliant contract prior to\\nnovember close .\\nthanks .\",\n          \"gary , production from the high island larger block a - 1 # 2 commenced on\\nsaturday at 2 : 00 p . m . at about 6 , 500 gross . carlos expects between 9 , 500 and\\n10 , 000 gross for tomorrow . vastar owns 68 % of the gross production .\\ngeorge x 3 - 6992\\n- - - - - - - - - - - - - - - - - - - - - - forwarded by george weissman / hou / ect on 12 / 13 / 99 10 : 16\\nam - - - - - - - - - - - - - - - - - - - - - - - - - - -\\ndaren j farmer\\n12 / 10 / 99 10 : 38 am\\nto : carlos j rodriguez / hou / ect @ ect\\ncc : george weissman / hou / ect @ ect , melissa graves / hou / ect @ ect\\nsubject : vastar resources , inc .\\ncarlos ,\\nplease call linda and get everything set up .\\ni ' m going to estimate 4 , 500 coming up tomorrow , with a 2 , 000 increase each\\nfollowing day based on my conversations with bill fischer at bmar .\\nd .\\n- - - - - - - - - - - - - - - - - - - - - - forwarded by daren j farmer / hou / ect on 12 / 10 / 99 10 : 34\\nam - - - - - - - - - - - - - - - - - - - - - - - - - - -\\nenron north america corp .\\nfrom : george weissman 12 / 10 / 99 10 : 00 am\\nto : daren j farmer / hou / ect @ ect\\ncc : gary bryan / hou / ect @ ect , melissa graves / hou / ect @ ect\\nsubject : vastar resources , inc .\\ndarren ,\\nthe attached appears to be a nomination from vastar resources , inc . for the\\nhigh island larger block a - 1 # 2 ( previously , erroneously referred to as the\\n# 1 well ) . vastar now expects the well to commence production sometime\\ntomorrow . i told linda harris that we ' d get her a telephone number in gas\\ncontrol so she can provide notification of the turn - on tomorrow . linda ' s\\nnumbers , for the record , are 281 . 584 . 3359 voice and 713 . 312 . 1689 fax .\\nwould you please see that someone contacts linda and advises her how to\\nsubmit future nominations via e - mail , fax or voice ? thanks .\\ngeorge x 3 - 6992\\n- - - - - - - - - - - - - - - - - - - - - - forwarded by george weissman / hou / ect on 12 / 10 / 99 09 : 44\\nam - - - - - - - - - - - - - - - - - - - - - - - - - - -\\n\\\" linda harris \\\" on 12 / 10 / 99 09 : 38 : 43 am\\nto : george weissman / hou / ect @ ect\\ncc :\\nsubject : hi a - 1 # 2\\neffective 12 - 11 - 99\\n| - - - - - - - - + - - - - - - - - - - + - - - - - - - - - - - |\\n| | | |\\n| mscf / d | min ftp | time |\\n| | | |\\n| - - - - - - - - + - - - - - - - - - - + - - - - - - - - - - - |\\n| | | |\\n| 4 , 500 | 9 , 925 | 24 hours |\\n| | | |\\n| - - - - - - - - + - - - - - - - - - - + - - - - - - - - - - - |\\n| | | |\\n| 6 , 000 | 9 , 908 | 24 hours |\\n| | | |\\n| - - - - - - - - + - - - - - - - - - - + - - - - - - - - - - - |\\n| | | |\\n| 8 , 000 | 9 , 878 | 24 hours |\\n| | | |\\n| - - - - - - - - + - - - - - - - - - - + - - - - - - - - - - - |\\n| | | |\\n| 10 , 000 | 9 , 840 | 24 hours |\\n| | | |\\n| - - - - - - - - + - - - - - - - - - - + - - - - - - - - - - - |\\n| | | |\\n| 12 , 000 | 9 , 793 | 24 hours |\\n| | | |\\n| - - - - - - - - + - - - - - - - - - - + - - - - - - - - - - - |\\n| | | |\\n| 14 , 000 | 9 , 738 | 24 hours |\\n| | | |\\n| - - - - - - - - + - - - - - - - - - - + - - - - - - - - - - - |\\n| | | |\\n| 16 , 000 | 9 , 674 | 24 hours |\\n| | | |\\n| - - - - - - - - + - - - - - - - - - - + - - - - - - - - - - - |\\n| | | |\\n| 18 , 000 | 9 , 602 | 24 hours |\\n| | | |\\n| - - - - - - - - + - - - - - - - - - - + - - - - - - - - - - - |\\n| | | |\\n| 20 , 000 | 9 , 521 | 24 hours |\\n| | | |\\n| - - - - - - - - + - - - - - - - - - - + - - - - - - - - - - - |\\n| | | |\\n| 22 , 000 | 9 , 431 | 24 hours |\\n| | | |\\n| - - - - - - - - + - - - - - - - - - - + - - - - - - - - - - - |\\n| | | |\\n| 24 , 000 | 9 , 332 | 24 hours |\\n| | | |\\n| - - - - - - - - + - - - - - - - - - - + - - - - - - - - - - - |\\n| | | |\\n| 26 , 000 | 9 , 224 | 24 hours |\\n| | | |\\n| - - - - - - - - + - - - - - - - - - - + - - - - - - - - - - - |\\n| | | |\\n| 28 , 000 | 9 , 108 | 24 hours |\\n| | | |\\n| - - - - - - - - + - - - - - - - - - - + - - - - - - - - - - - |\\n| | | |\\n| 30 , 000 | 8 , 982 | 24 hours |\\n| | | |\\n| - - - - - - - - + - - - - - - - - - - + - - - - - - - - - - - |\\n| | | |\\n| 32 , 000 | 8 , 847 | 24 hours |\\n| | | |\\n| - - - - - - - - + - - - - - - - - - - + - - - - - - - - - - - |\\n| | | |\\n| 34 , 000 | 8 , 703 | 24 hours |\\n| | | |\\n| - - - - - - - - + - - - - - - - - - - + - - - - - - - - - - - |\\n| | | |\\n| 36 , 000 | 8 , 549 | 24 hours |\\n| | | |\\n| - - - - - - - - + - - - - - - - - - - + - - - - - - - - - - - |\"\n        ],\n        \"semantic_type\": \"\",\n        \"description\": \"\"\n      }\n    },\n    {\n      \"column\": \"Spam/Ham\",\n      \"properties\": {\n        \"dtype\": \"category\",\n        \"num_unique_values\": 1,\n        \"samples\": [\n          \"ham\"\n        ],\n        \"semantic_type\": \"\",\n        \"description\": \"\"\n      }\n    },\n    {\n      \"column\": \"Date\",\n      \"properties\": {\n        \"dtype\": \"object\",\n        \"num_unique_values\": 3,\n        \"samples\": [\n          \"1999-12-10\"\n        ],\n        \"semantic_type\": \"\",\n        \"description\": \"\"\n      }\n    }\n  ]\n}"
            }
          },
          "metadata": {}
        }
      ]
    },
    {
      "cell_type": "markdown",
      "metadata": {
        "id": "98c154eb"
      },
      "source": [
        "## Preprocess the text data\n",
        "\n",
        "### Subtask:\n",
        "Clean and prepare the email text for analysis by handling missing values, converting text to lowercase, and removing punctuation."
      ]
    },
    {
      "cell_type": "markdown",
      "metadata": {
        "id": "7415b2f7"
      },
      "source": [
        "**Reasoning**:\n",
        "Handle missing values in the 'Subject' and 'Message' columns by replacing them with empty strings. Convert the 'Subject' and 'Message' columns to lowercase. Remove punctuation from the 'Subject' and 'Message' columns using a regular expression."
      ]
    },
    {
      "cell_type": "code",
      "metadata": {
        "colab": {
          "base_uri": "https://localhost:8080/",
          "height": 223
        },
        "id": "d6cf0bbc",
        "outputId": "bd795af3-18a9-4fdf-e906-a04db9fd0e14"
      },
      "source": [
        "import string\n",
        "import re # Import the re module\n",
        "\n",
        "# Handle missing values: Replace NaN in 'Subject' and 'Message' with empty strings\n",
        "df['Subject'] = df['Subject'].fillna('')\n",
        "df['Message'] = df['Message'].fillna('')\n",
        "\n",
        "# Convert text to lowercase\n",
        "df['Subject'] = df['Subject'].str.lower()\n",
        "df['Message'] = df['Message'].str.lower()\n",
        "\n",
        "# Remove punctuation\n",
        "df['Subject'] = df['Subject'].str.replace('[%s]' % re.escape(string.punctuation), '', regex=True)\n",
        "df['Message'] = df['Message'].str.replace('[%s]' % re.escape(string.punctuation), '', regex=True)\n",
        "\n",
        "print(\"Text preprocessing complete.\")\n",
        "display(df.head())"
      ],
      "execution_count": 14,
      "outputs": [
        {
          "output_type": "stream",
          "name": "stdout",
          "text": [
            "Text preprocessing complete.\n"
          ]
        },
        {
          "output_type": "display_data",
          "data": {
            "text/plain": [
              "   Unnamed: 0                       Subject  \\\n",
              "0           0  christmas tree farm pictures   \n",
              "1           1        vastar resources  inc    \n",
              "2           2  calpine daily gas nomination   \n",
              "3           3                     re  issue   \n",
              "4           4     meter 7268 nov allocation   \n",
              "\n",
              "                                             Message Spam/Ham        Date  \n",
              "0                                                         ham  1999-12-10  \n",
              "1  gary  production from the high island larger b...      ham  1999-12-13  \n",
              "2                calpine daily gas nomination 1  doc      ham  1999-12-14  \n",
              "3  fyi  see note below  already done \\nstella\\n  ...      ham  1999-12-14  \n",
              "4  fyi \\n                      forwarded by lauri...      ham  1999-12-14  "
            ],
            "text/html": [
              "\n",
              "  <div id=\"df-74f23f68-6e84-4bab-9eaf-43a5988174cf\" class=\"colab-df-container\">\n",
              "    <div>\n",
              "<style scoped>\n",
              "    .dataframe tbody tr th:only-of-type {\n",
              "        vertical-align: middle;\n",
              "    }\n",
              "\n",
              "    .dataframe tbody tr th {\n",
              "        vertical-align: top;\n",
              "    }\n",
              "\n",
              "    .dataframe thead th {\n",
              "        text-align: right;\n",
              "    }\n",
              "</style>\n",
              "<table border=\"1\" class=\"dataframe\">\n",
              "  <thead>\n",
              "    <tr style=\"text-align: right;\">\n",
              "      <th></th>\n",
              "      <th>Unnamed: 0</th>\n",
              "      <th>Subject</th>\n",
              "      <th>Message</th>\n",
              "      <th>Spam/Ham</th>\n",
              "      <th>Date</th>\n",
              "    </tr>\n",
              "  </thead>\n",
              "  <tbody>\n",
              "    <tr>\n",
              "      <th>0</th>\n",
              "      <td>0</td>\n",
              "      <td>christmas tree farm pictures</td>\n",
              "      <td></td>\n",
              "      <td>ham</td>\n",
              "      <td>1999-12-10</td>\n",
              "    </tr>\n",
              "    <tr>\n",
              "      <th>1</th>\n",
              "      <td>1</td>\n",
              "      <td>vastar resources  inc</td>\n",
              "      <td>gary  production from the high island larger b...</td>\n",
              "      <td>ham</td>\n",
              "      <td>1999-12-13</td>\n",
              "    </tr>\n",
              "    <tr>\n",
              "      <th>2</th>\n",
              "      <td>2</td>\n",
              "      <td>calpine daily gas nomination</td>\n",
              "      <td>calpine daily gas nomination 1  doc</td>\n",
              "      <td>ham</td>\n",
              "      <td>1999-12-14</td>\n",
              "    </tr>\n",
              "    <tr>\n",
              "      <th>3</th>\n",
              "      <td>3</td>\n",
              "      <td>re  issue</td>\n",
              "      <td>fyi  see note below  already done \\nstella\\n  ...</td>\n",
              "      <td>ham</td>\n",
              "      <td>1999-12-14</td>\n",
              "    </tr>\n",
              "    <tr>\n",
              "      <th>4</th>\n",
              "      <td>4</td>\n",
              "      <td>meter 7268 nov allocation</td>\n",
              "      <td>fyi \\n                      forwarded by lauri...</td>\n",
              "      <td>ham</td>\n",
              "      <td>1999-12-14</td>\n",
              "    </tr>\n",
              "  </tbody>\n",
              "</table>\n",
              "</div>\n",
              "    <div class=\"colab-df-buttons\">\n",
              "\n",
              "  <div class=\"colab-df-container\">\n",
              "    <button class=\"colab-df-convert\" onclick=\"convertToInteractive('df-74f23f68-6e84-4bab-9eaf-43a5988174cf')\"\n",
              "            title=\"Convert this dataframe to an interactive table.\"\n",
              "            style=\"display:none;\">\n",
              "\n",
              "  <svg xmlns=\"http://www.w3.org/2000/svg\" height=\"24px\" viewBox=\"0 -960 960 960\">\n",
              "    <path d=\"M120-120v-720h720v720H120Zm60-500h600v-160H180v160Zm220 220h160v-160H400v160Zm0 220h160v-160H400v160ZM180-400h160v-160H180v160Zm440 0h160v-160H620v160ZM180-180h160v-160H180v160Zm440 0h160v-160H620v160Z\"/>\n",
              "  </svg>\n",
              "    </button>\n",
              "\n",
              "  <style>\n",
              "    .colab-df-container {\n",
              "      display:flex;\n",
              "      gap: 12px;\n",
              "    }\n",
              "\n",
              "    .colab-df-convert {\n",
              "      background-color: #E8F0FE;\n",
              "      border: none;\n",
              "      border-radius: 50%;\n",
              "      cursor: pointer;\n",
              "      display: none;\n",
              "      fill: #1967D2;\n",
              "      height: 32px;\n",
              "      padding: 0 0 0 0;\n",
              "      width: 32px;\n",
              "    }\n",
              "\n",
              "    .colab-df-convert:hover {\n",
              "      background-color: #E2EBFA;\n",
              "      box-shadow: 0px 1px 2px rgba(60, 64, 67, 0.3), 0px 1px 3px 1px rgba(60, 64, 67, 0.15);\n",
              "      fill: #174EA6;\n",
              "    }\n",
              "\n",
              "    .colab-df-buttons div {\n",
              "      margin-bottom: 4px;\n",
              "    }\n",
              "\n",
              "    [theme=dark] .colab-df-convert {\n",
              "      background-color: #3B4455;\n",
              "      fill: #D2E3FC;\n",
              "    }\n",
              "\n",
              "    [theme=dark] .colab-df-convert:hover {\n",
              "      background-color: #434B5C;\n",
              "      box-shadow: 0px 1px 3px 1px rgba(0, 0, 0, 0.15);\n",
              "      filter: drop-shadow(0px 1px 2px rgba(0, 0, 0, 0.3));\n",
              "      fill: #FFFFFF;\n",
              "    }\n",
              "  </style>\n",
              "\n",
              "    <script>\n",
              "      const buttonEl =\n",
              "        document.querySelector('#df-74f23f68-6e84-4bab-9eaf-43a5988174cf button.colab-df-convert');\n",
              "      buttonEl.style.display =\n",
              "        google.colab.kernel.accessAllowed ? 'block' : 'none';\n",
              "\n",
              "      async function convertToInteractive(key) {\n",
              "        const element = document.querySelector('#df-74f23f68-6e84-4bab-9eaf-43a5988174cf');\n",
              "        const dataTable =\n",
              "          await google.colab.kernel.invokeFunction('convertToInteractive',\n",
              "                                                    [key], {});\n",
              "        if (!dataTable) return;\n",
              "\n",
              "        const docLinkHtml = 'Like what you see? Visit the ' +\n",
              "          '<a target=\"_blank\" href=https://colab.research.google.com/notebooks/data_table.ipynb>data table notebook</a>'\n",
              "          + ' to learn more about interactive tables.';\n",
              "        element.innerHTML = '';\n",
              "        dataTable['output_type'] = 'display_data';\n",
              "        await google.colab.output.renderOutput(dataTable, element);\n",
              "        const docLink = document.createElement('div');\n",
              "        docLink.innerHTML = docLinkHtml;\n",
              "        element.appendChild(docLink);\n",
              "      }\n",
              "    </script>\n",
              "  </div>\n",
              "\n",
              "\n",
              "    <div id=\"df-1e90f4ab-1829-4dac-9472-59ee2348669a\">\n",
              "      <button class=\"colab-df-quickchart\" onclick=\"quickchart('df-1e90f4ab-1829-4dac-9472-59ee2348669a')\"\n",
              "                title=\"Suggest charts\"\n",
              "                style=\"display:none;\">\n",
              "\n",
              "<svg xmlns=\"http://www.w3.org/2000/svg\" height=\"24px\"viewBox=\"0 0 24 24\"\n",
              "     width=\"24px\">\n",
              "    <g>\n",
              "        <path d=\"M19 3H5c-1.1 0-2 .9-2 2v14c0 1.1.9 2 2 2h14c1.1 0 2-.9 2-2V5c0-1.1-.9-2-2-2zM9 17H7v-7h2v7zm4 0h-2V7h2v10zm4 0h-2v-4h2v4z\"/>\n",
              "    </g>\n",
              "</svg>\n",
              "      </button>\n",
              "\n",
              "<style>\n",
              "  .colab-df-quickchart {\n",
              "      --bg-color: #E8F0FE;\n",
              "      --fill-color: #1967D2;\n",
              "      --hover-bg-color: #E2EBFA;\n",
              "      --hover-fill-color: #174EA6;\n",
              "      --disabled-fill-color: #AAA;\n",
              "      --disabled-bg-color: #DDD;\n",
              "  }\n",
              "\n",
              "  [theme=dark] .colab-df-quickchart {\n",
              "      --bg-color: #3B4455;\n",
              "      --fill-color: #D2E3FC;\n",
              "      --hover-bg-color: #434B5C;\n",
              "      --hover-fill-color: #FFFFFF;\n",
              "      --disabled-bg-color: #3B4455;\n",
              "      --disabled-fill-color: #666;\n",
              "  }\n",
              "\n",
              "  .colab-df-quickchart {\n",
              "    background-color: var(--bg-color);\n",
              "    border: none;\n",
              "    border-radius: 50%;\n",
              "    cursor: pointer;\n",
              "    display: none;\n",
              "    fill: var(--fill-color);\n",
              "    height: 32px;\n",
              "    padding: 0;\n",
              "    width: 32px;\n",
              "  }\n",
              "\n",
              "  .colab-df-quickchart:hover {\n",
              "    background-color: var(--hover-bg-color);\n",
              "    box-shadow: 0 1px 2px rgba(60, 64, 67, 0.3), 0 1px 3px 1px rgba(60, 64, 67, 0.15);\n",
              "    fill: var(--button-hover-fill-color);\n",
              "  }\n",
              "\n",
              "  .colab-df-quickchart-complete:disabled,\n",
              "  .colab-df-quickchart-complete:disabled:hover {\n",
              "    background-color: var(--disabled-bg-color);\n",
              "    fill: var(--disabled-fill-color);\n",
              "    box-shadow: none;\n",
              "  }\n",
              "\n",
              "  .colab-df-spinner {\n",
              "    border: 2px solid var(--fill-color);\n",
              "    border-color: transparent;\n",
              "    border-bottom-color: var(--fill-color);\n",
              "    animation:\n",
              "      spin 1s steps(1) infinite;\n",
              "  }\n",
              "\n",
              "  @keyframes spin {\n",
              "    0% {\n",
              "      border-color: transparent;\n",
              "      border-bottom-color: var(--fill-color);\n",
              "      border-left-color: var(--fill-color);\n",
              "    }\n",
              "    20% {\n",
              "      border-color: transparent;\n",
              "      border-left-color: var(--fill-color);\n",
              "      border-top-color: var(--fill-color);\n",
              "    }\n",
              "    30% {\n",
              "      border-color: transparent;\n",
              "      border-left-color: var(--fill-color);\n",
              "      border-top-color: var(--fill-color);\n",
              "      border-right-color: var(--fill-color);\n",
              "    }\n",
              "    40% {\n",
              "      border-color: transparent;\n",
              "      border-right-color: var(--fill-color);\n",
              "      border-top-color: var(--fill-color);\n",
              "    }\n",
              "    60% {\n",
              "      border-color: transparent;\n",
              "      border-right-color: var(--fill-color);\n",
              "    }\n",
              "    80% {\n",
              "      border-color: transparent;\n",
              "      border-right-color: var(--fill-color);\n",
              "      border-bottom-color: var(--fill-color);\n",
              "    }\n",
              "    90% {\n",
              "      border-color: transparent;\n",
              "      border-bottom-color: var(--fill-color);\n",
              "    }\n",
              "  }\n",
              "</style>\n",
              "\n",
              "      <script>\n",
              "        async function quickchart(key) {\n",
              "          const quickchartButtonEl =\n",
              "            document.querySelector('#' + key + ' button');\n",
              "          quickchartButtonEl.disabled = true;  // To prevent multiple clicks.\n",
              "          quickchartButtonEl.classList.add('colab-df-spinner');\n",
              "          try {\n",
              "            const charts = await google.colab.kernel.invokeFunction(\n",
              "                'suggestCharts', [key], {});\n",
              "          } catch (error) {\n",
              "            console.error('Error during call to suggestCharts:', error);\n",
              "          }\n",
              "          quickchartButtonEl.classList.remove('colab-df-spinner');\n",
              "          quickchartButtonEl.classList.add('colab-df-quickchart-complete');\n",
              "        }\n",
              "        (() => {\n",
              "          let quickchartButtonEl =\n",
              "            document.querySelector('#df-1e90f4ab-1829-4dac-9472-59ee2348669a button');\n",
              "          quickchartButtonEl.style.display =\n",
              "            google.colab.kernel.accessAllowed ? 'block' : 'none';\n",
              "        })();\n",
              "      </script>\n",
              "    </div>\n",
              "\n",
              "    </div>\n",
              "  </div>\n"
            ],
            "application/vnd.google.colaboratory.intrinsic+json": {
              "type": "dataframe",
              "summary": "{\n  \"name\": \"display(df\",\n  \"rows\": 5,\n  \"fields\": [\n    {\n      \"column\": \"Unnamed: 0\",\n      \"properties\": {\n        \"dtype\": \"number\",\n        \"std\": 1,\n        \"min\": 0,\n        \"max\": 4,\n        \"num_unique_values\": 5,\n        \"samples\": [\n          1,\n          4,\n          2\n        ],\n        \"semantic_type\": \"\",\n        \"description\": \"\"\n      }\n    },\n    {\n      \"column\": \"Subject\",\n      \"properties\": {\n        \"dtype\": \"string\",\n        \"num_unique_values\": 5,\n        \"samples\": [\n          \"vastar resources  inc \",\n          \"meter 7268 nov allocation\",\n          \"calpine daily gas nomination\"\n        ],\n        \"semantic_type\": \"\",\n        \"description\": \"\"\n      }\n    },\n    {\n      \"column\": \"Message\",\n      \"properties\": {\n        \"dtype\": \"string\",\n        \"num_unique_values\": 5,\n        \"samples\": [\n          \"gary  production from the high island larger block a  1  2 commenced on\\nsaturday at 2  00 p  m  at about 6  500 gross  carlos expects between 9  500 and\\n10  000 gross for tomorrow  vastar owns 68  of the gross production \\ngeorge x 3  6992\\n                      forwarded by george weissman  hou  ect on 12  13  99 10  16\\nam                           \\ndaren j farmer\\n12  10  99 10  38 am\\nto  carlos j rodriguez  hou  ect  ect\\ncc  george weissman  hou  ect  ect  melissa graves  hou  ect  ect\\nsubject  vastar resources  inc \\ncarlos \\nplease call linda and get everything set up \\ni  m going to estimate 4  500 coming up tomorrow  with a 2  000 increase each\\nfollowing day based on my conversations with bill fischer at bmar \\nd \\n                      forwarded by daren j farmer  hou  ect on 12  10  99 10  34\\nam                           \\nenron north america corp \\nfrom  george weissman 12  10  99 10  00 am\\nto  daren j farmer  hou  ect  ect\\ncc  gary bryan  hou  ect  ect  melissa graves  hou  ect  ect\\nsubject  vastar resources  inc \\ndarren \\nthe attached appears to be a nomination from vastar resources  inc  for the\\nhigh island larger block a  1  2  previously  erroneously referred to as the\\n 1 well   vastar now expects the well to commence production sometime\\ntomorrow  i told linda harris that we  d get her a telephone number in gas\\ncontrol so she can provide notification of the turn  on tomorrow  linda  s\\nnumbers  for the record  are 281  584  3359 voice and 713  312  1689 fax \\nwould you please see that someone contacts linda and advises her how to\\nsubmit future nominations via e  mail  fax or voice  thanks \\ngeorge x 3  6992\\n                      forwarded by george weissman  hou  ect on 12  10  99 09  44\\nam                           \\n linda harris  on 12  10  99 09  38  43 am\\nto  george weissman  hou  ect  ect\\ncc \\nsubject  hi a  1  2\\neffective 12  11  99\\n                                \\n   \\n mscf  d  min ftp  time \\n   \\n                                \\n   \\n 4  500  9  925  24 hours \\n   \\n                                \\n   \\n 6  000  9  908  24 hours \\n   \\n                                \\n   \\n 8  000  9  878  24 hours \\n   \\n                                \\n   \\n 10  000  9  840  24 hours \\n   \\n                                \\n   \\n 12  000  9  793  24 hours \\n   \\n                                \\n   \\n 14  000  9  738  24 hours \\n   \\n                                \\n   \\n 16  000  9  674  24 hours \\n   \\n                                \\n   \\n 18  000  9  602  24 hours \\n   \\n                                \\n   \\n 20  000  9  521  24 hours \\n   \\n                                \\n   \\n 22  000  9  431  24 hours \\n   \\n                                \\n   \\n 24  000  9  332  24 hours \\n   \\n                                \\n   \\n 26  000  9  224  24 hours \\n   \\n                                \\n   \\n 28  000  9  108  24 hours \\n   \\n                                \\n   \\n 30  000  8  982  24 hours \\n   \\n                                \\n   \\n 32  000  8  847  24 hours \\n   \\n                                \\n   \\n 34  000  8  703  24 hours \\n   \\n                                \\n   \\n 36  000  8  549  24 hours \\n   \\n                                \",\n          \"fyi \\n                      forwarded by lauri a allen  hou  ect on 12  14  99 12  17\\npm                           \\nkimberly vaughn\\n12  10  99 02  54 pm\\nto  lauri a allen  hou  ect  ect\\ncc  mary m smith  hou  ect  ect\\nsubject  meter 7268 nov allocation\\nlauri   i have put this on strangas gas until i can get a contract from\\ndaren \\n                      forwarded by kimberly vaughn  hou  ect on 12  10  99 01  52\\npm                           \\nlauri a allen\\n12  09  99 01  20 pm\\nto  kimberly vaughn  hou  ect  ect  anita luong  hou  ect  ect\\ncc  howard b camp  hou  ect  ect  mary m smith  hou  ect  ect\\nsubject  meter 7268 nov allocation\\nkim  anita \\na volume of 7247 mm shows to have been allocated to the reliant 201 contract\\nfor november  there was no nomination for reliant at this point in november\\nand  therefore  there should be no volume allocated to their contract \\nplease make sure these volumes are moved off the reliant contract prior to\\nnovember close \\nthanks \",\n          \" calpine daily gas nomination 1  doc\"\n        ],\n        \"semantic_type\": \"\",\n        \"description\": \"\"\n      }\n    },\n    {\n      \"column\": \"Spam/Ham\",\n      \"properties\": {\n        \"dtype\": \"category\",\n        \"num_unique_values\": 1,\n        \"samples\": [\n          \"ham\"\n        ],\n        \"semantic_type\": \"\",\n        \"description\": \"\"\n      }\n    },\n    {\n      \"column\": \"Date\",\n      \"properties\": {\n        \"dtype\": \"object\",\n        \"num_unique_values\": 3,\n        \"samples\": [\n          \"1999-12-10\"\n        ],\n        \"semantic_type\": \"\",\n        \"description\": \"\"\n      }\n    }\n  ]\n}"
            }
          },
          "metadata": {}
        }
      ]
    },
    {
      "cell_type": "markdown",
      "metadata": {
        "id": "f5456f43"
      },
      "source": [
        "## Feature extraction\n",
        "\n",
        "### Subtask:\n",
        "Convert the text data into numerical features using TF-IDF."
      ]
    },
    {
      "cell_type": "markdown",
      "metadata": {
        "id": "4e3e5efd"
      },
      "source": [
        "**Reasoning**:\n",
        "Combine the 'Subject' and 'Message' columns to create a single text column for feature extraction. Use `TfidfVectorizer` to convert the text data into a TF-IDF matrix. Display the shape of the resulting feature matrix."
      ]
    },
    {
      "cell_type": "code",
      "metadata": {
        "colab": {
          "base_uri": "https://localhost:8080/"
        },
        "id": "239c1cb8",
        "outputId": "acc83a27-3c56-4de0-ffa1-088cab35b369"
      },
      "source": [
        "from sklearn.feature_extraction.text import TfidfVectorizer\n",
        "\n",
        "# Combine 'Subject' and 'Message' columns\n",
        "df['text'] = df['Subject'] + ' ' + df['Message']\n",
        "\n",
        "# Initialize TfidfVectorizer\n",
        "# You can adjust parameters like max_features, min_df, max_df, ngram_range as needed\n",
        "tfidf_vectorizer = TfidfVectorizer(max_features=5000, stop_words='english')\n",
        "\n",
        "# Fit and transform the text data\n",
        "X = tfidf_vectorizer.fit_transform(df['text'])\n",
        "\n",
        "print(\"Feature extraction complete.\")\n",
        "print(\"Shape of the feature matrix:\", X.shape)"
      ],
      "execution_count": 15,
      "outputs": [
        {
          "output_type": "stream",
          "name": "stdout",
          "text": [
            "Feature extraction complete.\n",
            "Shape of the feature matrix: (33716, 5000)\n"
          ]
        }
      ]
    },
    {
      "cell_type": "markdown",
      "metadata": {
        "id": "1ae94605"
      },
      "source": [
        "## Split the data\n",
        "\n",
        "### Subtask:\n",
        "Divide the dataset into training and testing sets."
      ]
    },
    {
      "cell_type": "markdown",
      "metadata": {
        "id": "829b3f8b"
      },
      "source": [
        "**Reasoning**:\n",
        "Split the feature matrix `X` and the target variable `Spam/Ham` into training and testing sets using `train_test_split`. Use a test size of 20% and a random state for reproducibility. Map the 'Spam/Ham' labels to numerical values (e.g., 1 for spam, 0 for ham)."
      ]
    },
    {
      "cell_type": "code",
      "metadata": {
        "colab": {
          "base_uri": "https://localhost:8080/"
        },
        "id": "6753fcd5",
        "outputId": "5d8766c9-c9c7-4a4c-cf41-a51c5ab535a4"
      },
      "source": [
        "from sklearn.model_selection import train_test_split\n",
        "\n",
        "# Map 'Spam/Ham' labels to numerical values\n",
        "df['label'] = df['Spam/Ham'].apply(lambda x: 1 if x == 'spam' else 0)\n",
        "y = df['label']\n",
        "\n",
        "# Split the data into training and testing sets\n",
        "X_train, X_test, y_train, y_test = train_test_split(X, y, test_size=0.2, random_state=42)\n",
        "\n",
        "print(\"Data splitting complete.\")\n",
        "print(\"Shape of X_train:\", X_train.shape)\n",
        "print(\"Shape of X_test:\", X_test.shape)\n",
        "print(\"Shape of y_train:\", y_train.shape)\n",
        "print(\"Shape of y_test:\", y_test.shape)"
      ],
      "execution_count": 16,
      "outputs": [
        {
          "output_type": "stream",
          "name": "stdout",
          "text": [
            "Data splitting complete.\n",
            "Shape of X_train: (26972, 5000)\n",
            "Shape of X_test: (6744, 5000)\n",
            "Shape of y_train: (26972,)\n",
            "Shape of y_test: (6744,)\n"
          ]
        }
      ]
    },
    {
      "cell_type": "markdown",
      "metadata": {
        "id": "06062b31"
      },
      "source": [
        "## Train a classification model\n",
        "\n",
        "### Subtask:\n",
        "Train a classification model (e.g., Logistic Regression) on the training data."
      ]
    },
    {
      "cell_type": "markdown",
      "metadata": {
        "id": "ea927d62"
      },
      "source": [
        "**Reasoning**:\n",
        "Initialize and train a Logistic Regression model on the training data (`X_train`, `y_train`)."
      ]
    },
    {
      "cell_type": "code",
      "metadata": {
        "colab": {
          "base_uri": "https://localhost:8080/"
        },
        "id": "4dee963b",
        "outputId": "2de3b6f5-7ae0-4330-9474-0fa7eb5514f8"
      },
      "source": [
        "from sklearn.linear_model import LogisticRegression\n",
        "\n",
        "# Initialize the Logistic Regression model\n",
        "model = LogisticRegression()\n",
        "\n",
        "# Train the model\n",
        "model.fit(X_train, y_train)\n",
        "\n",
        "print(\"Logistic Regression model training complete.\")"
      ],
      "execution_count": 17,
      "outputs": [
        {
          "output_type": "stream",
          "name": "stdout",
          "text": [
            "Logistic Regression model training complete.\n"
          ]
        }
      ]
    },
    {
      "cell_type": "markdown",
      "metadata": {
        "id": "4ed0dc55"
      },
      "source": [
        "## Evaluate the model\n",
        "\n",
        "### Subtask:\n",
        "Evaluate the performance of the trained model on the testing data."
      ]
    },
    {
      "cell_type": "markdown",
      "metadata": {
        "id": "a5eb71a9"
      },
      "source": [
        "**Reasoning**:\n",
        "Use the trained Logistic Regression model to predict labels on the test set (`X_test`). Calculate and print the accuracy, precision, recall, and F1-score of the model's predictions compared to the true labels (`y_test`)."
      ]
    },
    {
      "cell_type": "code",
      "metadata": {
        "colab": {
          "base_uri": "https://localhost:8080/"
        },
        "id": "0a836b48",
        "outputId": "815cb707-1a64-448d-ae12-47030dc38bfb"
      },
      "source": [
        "from sklearn.metrics import accuracy_score, precision_score, recall_score, f1_score\n",
        "\n",
        "# Make predictions on the test set\n",
        "y_pred = model.predict(X_test)\n",
        "\n",
        "# Evaluate the model\n",
        "accuracy = accuracy_score(y_test, y_pred)\n",
        "precision = precision_score(y_test, y_pred)\n",
        "recall = recall_score(y_test, y_pred)\n",
        "f1 = f1_score(y_test, y_pred)\n",
        "\n",
        "print(\"Model Evaluation Results:\")\n",
        "print(f\"Accuracy: {accuracy:.4f}\")\n",
        "print(f\"Precision: {precision:.4f}\")\n",
        "print(f\"Recall: {recall:.4f}\")\n",
        "print(f\"F1-score: {f1:.4f}\")"
      ],
      "execution_count": 18,
      "outputs": [
        {
          "output_type": "stream",
          "name": "stdout",
          "text": [
            "Model Evaluation Results:\n",
            "Accuracy: 0.9994\n",
            "Precision: 0.9988\n",
            "Recall: 1.0000\n",
            "F1-score: 0.9994\n"
          ]
        }
      ]
    },
    {
      "cell_type": "markdown",
      "metadata": {
        "id": "e40a7a42"
      },
      "source": [
        "## Visualize the Confusion Matrix\n",
        "\n",
        "### Subtask:\n",
        "Visualize the confusion matrix to understand the model's performance."
      ]
    },
    {
      "cell_type": "markdown",
      "metadata": {
        "id": "2472cbf1"
      },
      "source": [
        "**Reasoning**:\n",
        "Generate a confusion matrix using the true labels (`y_test`) and the predicted labels (`y_pred`). Use `seaborn.heatmap` to visualize the confusion matrix for better interpretation."
      ]
    },
    {
      "cell_type": "code",
      "metadata": {
        "colab": {
          "base_uri": "https://localhost:8080/",
          "height": 564
        },
        "id": "a1aa085a",
        "outputId": "abfa5736-f808-4304-c849-ecd1f4e178bf"
      },
      "source": [
        "from sklearn.metrics import confusion_matrix\n",
        "import seaborn as sns\n",
        "import matplotlib.pyplot as plt\n",
        "\n",
        "# Generate the confusion matrix\n",
        "cm = confusion_matrix(y_test, y_pred)\n",
        "\n",
        "# Visualize the confusion matrix\n",
        "plt.figure(figsize=(8, 6))\n",
        "sns.heatmap(cm, annot=True, fmt='d', cmap='Blues', xticklabels=['Ham', 'Spam'], yticklabels=['Ham', 'Spam'])\n",
        "plt.xlabel('Predicted Label')\n",
        "plt.ylabel('True Label')\n",
        "plt.title('Confusion Matrix')\n",
        "plt.show()"
      ],
      "execution_count": 19,
      "outputs": [
        {
          "output_type": "display_data",
          "data": {
            "text/plain": [
              "<Figure size 800x600 with 2 Axes>"
            ],
            "image/png": "[encoded data removed]"
          },
          "metadata": {}
        }
      ]
    },
    {
      "cell_type": "markdown",
      "metadata": {
        "id": "703bba3f"
      },
      "source": [
        "## Visualize Email Length Distribution\n",
        "\n",
        "### Subtask:\n",
        "Visualize the distribution of email lengths for spam and ham emails."
      ]
    },
    {
      "cell_type": "markdown",
      "metadata": {
        "id": "a6a35b3e"
      },
      "source": [
        "**Reasoning**:\n",
        "Calculate the length of the combined text for each email. Create histograms or density plots to visualize the distribution of these lengths separately for spam and ham emails to identify any potential differences."
      ]
    },
    {
      "cell_type": "code",
      "metadata": {
        "colab": {
          "base_uri": "https://localhost:8080/",
          "height": 564
        },
        "id": "be8b5ec6",
        "outputId": "22a62296-70ea-42b5-bae6-717e71bfa5e9"
      },
      "source": [
        "import matplotlib.pyplot as plt\n",
        "import seaborn as sns\n",
        "\n",
        "# Calculate the length of the combined text\n",
        "df['text_length'] = df['text'].apply(len)\n",
        "\n",
        "# Visualize the distribution of text lengths for spam and ham\n",
        "plt.figure(figsize=(12, 6))\n",
        "sns.histplot(data=df, x='text_length', hue='Spam/Ham', kde=True, bins=50)\n",
        "plt.title('Distribution of Email Lengths (Characters) for Spam vs. Ham')\n",
        "plt.xlabel('Email Length (Characters)')\n",
        "plt.ylabel('Frequency')\n",
        "plt.xlim(0, 5000) # Limit x-axis for better visualization of common lengths\n",
        "plt.show()"
      ],
      "execution_count": 20,
      "outputs": [
        {
          "output_type": "display_data",
          "data": {
            "text/plain": [
              "<Figure size 1200x600 with 1 Axes>"
            ],
            "image/png": "[encoded data removed]"
          },
          "metadata": {}
        }
      ]
    }
  ]
}